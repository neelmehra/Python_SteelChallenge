{
 "cells": [
  {
   "cell_type": "markdown",
   "id": "81f6894d",
   "metadata": {},
   "source": [
    "## Beginner"
   ]
  },
  {
   "cell_type": "markdown",
   "id": "20806240",
   "metadata": {},
   "source": [
    "1. Write a function that takes a string as input and returns the number of words in the string."
   ]
  },
  {
   "cell_type": "code",
   "execution_count": 5,
   "id": "570b675e",
   "metadata": {},
   "outputs": [],
   "source": [
    "def count_word(input_string):\n",
    "    input_string= input_string.strip() # Remove leading and trailing whitespace\n",
    "    words = input_string.split() # Split the string into words using whitespace as the delimiter\n",
    "    return len(words)"
   ]
  },
  {
   "cell_type": "code",
   "execution_count": 6,
   "id": "968560a4",
   "metadata": {},
   "outputs": [
    {
     "data": {
      "text/plain": [
       "2"
      ]
     },
     "execution_count": 6,
     "metadata": {},
     "output_type": "execute_result"
    }
   ],
   "source": [
    "alpha = count_word(\"Hello Beautiful\")\n",
    "alpha"
   ]
  },
  {
   "cell_type": "markdown",
   "id": "e9932e4b",
   "metadata": {},
   "source": [
    "2. Write a function that takes a list of integers as input and returns the sum of the even numbers in the list."
   ]
  },
  {
   "cell_type": "code",
   "execution_count": 9,
   "id": "3c8a57b4",
   "metadata": {},
   "outputs": [],
   "source": [
    "def my_num(even_num):\n",
    "    even_sum = 0\n",
    "    for num in even_num:\n",
    "        if num % 2 ==0:\n",
    "            even_sum +=num\n",
    "    return even_sum"
   ]
  },
  {
   "cell_type": "code",
   "execution_count": 10,
   "id": "25f7572b",
   "metadata": {},
   "outputs": [
    {
     "data": {
      "text/plain": [
       "236"
      ]
     },
     "execution_count": 10,
     "metadata": {},
     "output_type": "execute_result"
    }
   ],
   "source": [
    "abh = my_num([45,67,2,13,24,32,12,93,41,90,76,51])\n",
    "abh"
   ]
  },
  {
   "cell_type": "markdown",
   "id": "66978f6e",
   "metadata": {},
   "source": [
    "3. Write a function that takes two strings as input and returns True if they are anagrams (i.e. they contain the same letters in a different order), False otherwise."
   ]
  },
  {
   "cell_type": "code",
   "execution_count": null,
   "id": "905d0ef3",
   "metadata": {},
   "outputs": [],
   "source": []
  },
  {
   "cell_type": "code",
   "execution_count": null,
   "id": "57469f5c",
   "metadata": {},
   "outputs": [],
   "source": []
  },
  {
   "cell_type": "code",
   "execution_count": null,
   "id": "d5164288",
   "metadata": {},
   "outputs": [],
   "source": []
  },
  {
   "cell_type": "code",
   "execution_count": null,
   "id": "6f9e1d50",
   "metadata": {},
   "outputs": [],
   "source": []
  },
  {
   "cell_type": "code",
   "execution_count": null,
   "id": "17779f02",
   "metadata": {},
   "outputs": [],
   "source": []
  },
  {
   "cell_type": "code",
   "execution_count": null,
   "id": "da1157d2",
   "metadata": {},
   "outputs": [],
   "source": []
  },
  {
   "cell_type": "code",
   "execution_count": null,
   "id": "0813a505",
   "metadata": {},
   "outputs": [],
   "source": []
  },
  {
   "cell_type": "code",
   "execution_count": null,
   "id": "762ab289",
   "metadata": {},
   "outputs": [],
   "source": []
  },
  {
   "cell_type": "code",
   "execution_count": null,
   "id": "1a8606b1",
   "metadata": {},
   "outputs": [],
   "source": []
  },
  {
   "cell_type": "code",
   "execution_count": null,
   "id": "a2ca9cbb",
   "metadata": {},
   "outputs": [],
   "source": []
  }
 ],
 "metadata": {
  "kernelspec": {
   "display_name": "Python 3 (ipykernel)",
   "language": "python",
   "name": "python3"
  },
  "language_info": {
   "codemirror_mode": {
    "name": "ipython",
    "version": 3
   },
   "file_extension": ".py",
   "mimetype": "text/x-python",
   "name": "python",
   "nbconvert_exporter": "python",
   "pygments_lexer": "ipython3",
   "version": "3.9.7"
  }
 },
 "nbformat": 4,
 "nbformat_minor": 5
}
