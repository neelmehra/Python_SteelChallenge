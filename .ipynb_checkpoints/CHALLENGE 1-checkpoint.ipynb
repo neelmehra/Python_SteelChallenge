{
 "cells": [
  {
   "cell_type": "markdown",
   "id": "6768b66f",
   "metadata": {},
   "source": [
    "This Python Challenge has provided by Steel Data\n",
    "\n",
    "Challenge Link : https://www.steeldata.org.uk/python1.html"
   ]
  },
  {
   "cell_type": "markdown",
   "id": "f4a99d96",
   "metadata": {},
   "source": [
    "## Beginner"
   ]
  },
  {
   "cell_type": "markdown",
   "id": "9d2e2f6b",
   "metadata": {},
   "source": [
    "1. Write a function that takes two integers as input and returns their sum."
   ]
  },
  {
   "cell_type": "code",
   "execution_count": 1,
   "id": "84814fd3",
   "metadata": {},
   "outputs": [],
   "source": [
    "def add_num(a,b):\n",
    "    return a+b"
   ]
  },
  {
   "cell_type": "code",
   "execution_count": 2,
   "id": "aa256642",
   "metadata": {},
   "outputs": [
    {
     "name": "stdout",
     "output_type": "stream",
     "text": [
      "11\n"
     ]
    }
   ],
   "source": [
    "abc= add_num(5,6)\n",
    "print(abc)"
   ]
  },
  {
   "cell_type": "markdown",
   "id": "7d2b4c30",
   "metadata": {},
   "source": [
    "2. Write a function that takes a string as input and returns the string in reverse order."
   ]
  },
  {
   "cell_type": "code",
   "execution_count": 6,
   "id": "ac09d062",
   "metadata": {},
   "outputs": [],
   "source": [
    "def rev_num(input_string):\n",
    "    return input_string[::-1]"
   ]
  },
  {
   "cell_type": "code",
   "execution_count": 8,
   "id": "873dfec5",
   "metadata": {},
   "outputs": [
    {
     "name": "stdout",
     "output_type": "stream",
     "text": [
      "dlroW olleH\n"
     ]
    }
   ],
   "source": [
    "result = rev_num(\"Hello World\")\n",
    "print(result)"
   ]
  },
  {
   "cell_type": "code",
   "execution_count": 25,
   "id": "fb9ceb77",
   "metadata": {},
   "outputs": [],
   "source": [
    "def reverse_string(input_string):\n",
    "    if input_string:\n",
    "        return input_string[::-1]\n",
    "    else:\n",
    "        return input_string"
   ]
  },
  {
   "cell_type": "code",
   "execution_count": 27,
   "id": "f04b4975",
   "metadata": {},
   "outputs": [
    {
     "name": "stdout",
     "output_type": "stream",
     "text": [
      "Enter the string\" love\"\n",
      "\"evol \"\n"
     ]
    }
   ],
   "source": [
    "result = reverse_string(input(\"Enter the string\"))\n",
    "print(result)"
   ]
  },
  {
   "cell_type": "markdown",
   "id": "6136b852",
   "metadata": {},
   "source": [
    "3. Write a function that takes a list of numbers and returns the sum of all the numbers in the list."
   ]
  },
  {
   "cell_type": "code",
   "execution_count": 28,
   "id": "59684105",
   "metadata": {},
   "outputs": [],
   "source": [
    "def calculate_sum(numbers):\n",
    "    total = sum(numbers)\n",
    "    return total"
   ]
  },
  {
   "cell_type": "code",
   "execution_count": 31,
   "id": "05ce6f73",
   "metadata": {},
   "outputs": [
    {
     "name": "stdout",
     "output_type": "stream",
     "text": [
      "15\n",
      "0\n"
     ]
    }
   ],
   "source": [
    "result = calculate_sum([1, 2, 3, 4, 5])\n",
    "print(result) \n",
    "\n",
    "result2 = calculate_sum([-1, 0, 1])\n",
    "print(result2)  "
   ]
  },
  {
   "cell_type": "markdown",
   "id": "5abb8c4e",
   "metadata": {},
   "source": [
    "4. Write a function that takes a list of strings and returns a new list containing the length of each string.`"
   ]
  },
  {
   "cell_type": "code",
   "execution_count": 40,
   "id": "934b00ad",
   "metadata": {},
   "outputs": [],
   "source": [
    "def new_string(string):\n",
    "    length = []\n",
    "    for i in string:\n",
    "        length.append(len(i))\n",
    "    return length"
   ]
  },
  {
   "cell_type": "code",
   "execution_count": 41,
   "id": "85c8baa4",
   "metadata": {},
   "outputs": [
    {
     "name": "stdout",
     "output_type": "stream",
     "text": [
      "[5, 6, 6]\n",
      "[6, 2, 7]\n"
     ]
    }
   ],
   "source": [
    "result = new_string([\"apple\", \"banana\", \"orange\"])\n",
    "print(result)  \n",
    "\n",
    "result2 = new_string([\"Python\", \"is\", \"awesome\"])\n",
    "print(result2)  \n"
   ]
  },
  {
   "cell_type": "code",
   "execution_count": 39,
   "id": "7181bd22",
   "metadata": {},
   "outputs": [
    {
     "name": "stdout",
     "output_type": "stream",
     "text": [
      "[5]\n",
      "[5, 6]\n",
      "[5, 6, 6]\n"
     ]
    }
   ],
   "source": [
    "a= [\"apple\", \"banana\", \"orange\"] #without function\n",
    "b= []\n",
    "for i in a:\n",
    "    b.append(len(i))\n",
    "    print (b)"
   ]
  },
  {
   "cell_type": "markdown",
   "id": "8f32d81e",
   "metadata": {},
   "source": [
    "# Intermediate"
   ]
  },
  {
   "cell_type": "markdown",
   "id": "cdd8f20f",
   "metadata": {},
   "source": [
    "1. Write a function that takes a list of integers and returns the second largest number in the list."
   ]
  },
  {
   "cell_type": "code",
   "execution_count": 43,
   "id": "1a31bbb1",
   "metadata": {},
   "outputs": [],
   "source": [
    "def get_second_largest(numbers):\n",
    "    numbers.sort()\n",
    "    return numbers[-2]    "
   ]
  },
  {
   "cell_type": "code",
   "execution_count": 44,
   "id": "408c98c5",
   "metadata": {},
   "outputs": [
    {
     "name": "stdout",
     "output_type": "stream",
     "text": [
      "8\n"
     ]
    }
   ],
   "source": [
    "result= get_second_largest([5, 10, 3, 8, 1])\n",
    "print(result)"
   ]
  },
  {
   "cell_type": "markdown",
   "id": "afae013b",
   "metadata": {},
   "source": [
    "2. Write a function that takes a list of integers and returns a new list containing only the prime numbers in the list."
   ]
  },
  {
   "cell_type": "code",
   "execution_count": 46,
   "id": "40da955f",
   "metadata": {},
   "outputs": [
    {
     "name": "stdout",
     "output_type": "stream",
     "text": [
      "Requirement already satisfied: sympy in c:\\users\\91955\\anaconda3\\lib\\site-packages (1.9)\n",
      "Requirement already satisfied: mpmath>=0.19 in c:\\users\\91955\\anaconda3\\lib\\site-packages (from sympy) (1.2.1)\n",
      "Note: you may need to restart the kernel to use updated packages.\n"
     ]
    }
   ],
   "source": [
    "pip install sympy"
   ]
  },
  {
   "cell_type": "code",
   "execution_count": 47,
   "id": "ddf48792",
   "metadata": {},
   "outputs": [],
   "source": [
    "from sympy import isprime"
   ]
  },
  {
   "cell_type": "code",
   "execution_count": 48,
   "id": "510b643e",
   "metadata": {},
   "outputs": [],
   "source": [
    "def get_primenum(numbers):\n",
    "    prime_numbers= [num for num in numbers if isprime(num)]\n",
    "    return prime_numbers"
   ]
  },
  {
   "cell_type": "code",
   "execution_count": 51,
   "id": "532a01b1",
   "metadata": {},
   "outputs": [
    {
     "name": "stdout",
     "output_type": "stream",
     "text": [
      "[2, 3, 5, 7]\n",
      "[17, 23, 29, 31]\n"
     ]
    }
   ],
   "source": [
    "result = get_primenum([2, 3, 4, 5, 6, 7, 8, 9, 10])\n",
    "print(result)  # Output: [2, 3, 5, 7]\n",
    "\n",
    "result2 = get_primenum([17, 22, 23, 29, 30, 31])\n",
    "print(result2)  # Output: [17, 23, 29, 31]\n"
   ]
  },
  {
   "cell_type": "code",
   "execution_count": 1,
   "id": "767799cc",
   "metadata": {},
   "outputs": [],
   "source": [
    "def get_prime_numbers(numbers):\n",
    "    return [num for num in numbers if is_prime(num)]\n",
    "\n",
    "def is_prime(num):\n",
    "    if num < 2:  # Numbers less than 2 are not prime\n",
    "        return False\n",
    "    for i in range(2, int(num ** 0.5) + 1):\n",
    "        if num % i == 0:\n",
    "            return False\n",
    "    return True"
   ]
  },
  {
   "cell_type": "code",
   "execution_count": 2,
   "id": "79bd46f0",
   "metadata": {},
   "outputs": [
    {
     "name": "stdout",
     "output_type": "stream",
     "text": [
      "[2, 3, 5, 7]\n"
     ]
    }
   ],
   "source": [
    "numbers = [2, 3, 4, 5, 6, 7, 8, 9, 10]\n",
    "prime_numbers = get_prime_numbers(numbers)\n",
    "print(prime_numbers)"
   ]
  },
  {
   "cell_type": "markdown",
   "id": "51259b8e",
   "metadata": {},
   "source": [
    "3. Write a function that takes two lists of integers and returns a new list containing the elements that are common to both lists."
   ]
  },
  {
   "cell_type": "code",
   "execution_count": 3,
   "id": "5c88c30e",
   "metadata": {},
   "outputs": [],
   "source": [
    "def get_common_elements(list1, list2):\n",
    "    common_elements = []\n",
    "    for num in list1:\n",
    "        if num in list2:\n",
    "            common_elements.append(num)\n",
    "    return common_elements"
   ]
  },
  {
   "cell_type": "code",
   "execution_count": 4,
   "id": "466bb661",
   "metadata": {},
   "outputs": [
    {
     "name": "stdout",
     "output_type": "stream",
     "text": [
      "[3, 4, 5]\n"
     ]
    }
   ],
   "source": [
    "list1 = [1, 2, 3, 4, 5]\n",
    "list2 = [3, 4, 5, 6, 7]\n",
    "common_elements = get_common_elements(list1, list2)\n",
    "print(common_elements)"
   ]
  },
  {
   "cell_type": "markdown",
   "id": "82a85532",
   "metadata": {},
   "source": [
    "# Advanced"
   ]
  },
  {
   "cell_type": "markdown",
   "id": "b71fabd3",
   "metadata": {},
   "source": [
    "1. Create a text-based adventure game that uses ASCII art"
   ]
  },
  {
   "cell_type": "code",
   "execution_count": 5,
   "id": "42702a26",
   "metadata": {},
   "outputs": [
    {
     "name": "stdout",
     "output_type": "stream",
     "text": [
      "Welcome to the Forest Adventure Game!\n",
      "\n",
      "               .-\"\"\"\"\"\"-.\n",
      "              .'          '.\n",
      "             /   O      O   \\\n",
      "            :           `    :\n",
      "            |                |   __\n",
      "             \\    .-------.   /.-'\n",
      "              '.           .-'\n",
      "                '-._____.-'\n",
      "\n",
      "You find yourself in a mystical forest.\n",
      "What would you like to do?\n",
      "1. Explore the forest\n",
      "2. Quit the game\n",
      "Enter your choice (1 or 2): 1\n",
      "You venture deeper into the forest...\n",
      "Suddenly, you hear a noise behind you.\n",
      "What do you do?\n",
      "1. Turn around and investigate\n",
      "2. Run away\n",
      "Enter your choice (1 or 2): 1\n",
      "You turn around and see a friendly squirrel!\n",
      "The squirrel leads you to a hidden treasure chest.\n",
      "You found the treasure! You win!\n",
      "Thanks for playing!\n"
     ]
    }
   ],
   "source": [
    "forest_art = '''\n",
    "               .-\"\"\"\"\"\"-.\n",
    "              .'          '.\n",
    "             /   O      O   \\\\\n",
    "            :           `    :\n",
    "            |                |   __\n",
    "             \\    .-------.   /.-'\n",
    "              '.           .-'\n",
    "                '-._____.-'\n",
    "'''\n",
    "\n",
    "def start_game():\n",
    "    print(\"Welcome to the Forest Adventure Game!\")\n",
    "    print(forest_art)\n",
    "    print(\"You find yourself in a mystical forest.\")\n",
    "    print(\"What would you like to do?\")\n",
    "    print(\"1. Explore the forest\")\n",
    "    print(\"2. Quit the game\")\n",
    "\n",
    "    choice = input(\"Enter your choice (1 or 2): \")\n",
    "\n",
    "    if choice == \"1\":\n",
    "        explore_forest()\n",
    "    elif choice == \"2\":\n",
    "        print(\"Thank you for playing!\")\n",
    "    else:\n",
    "        print(\"Invalid choice. Please try again.\")\n",
    "        start_game()\n",
    "\n",
    "def explore_forest():\n",
    "    print(\"You venture deeper into the forest...\")\n",
    "    print(\"Suddenly, you hear a noise behind you.\")\n",
    "    print(\"What do you do?\")\n",
    "    print(\"1. Turn around and investigate\")\n",
    "    print(\"2. Run away\")\n",
    "\n",
    "    choice = input(\"Enter your choice (1 or 2): \")\n",
    "\n",
    "    if choice == \"1\":\n",
    "        investigate()\n",
    "    elif choice == \"2\":\n",
    "        print(\"You run away, back to safety.\")\n",
    "        start_game()\n",
    "    else:\n",
    "        print(\"Invalid choice. Please try again.\")\n",
    "        explore_forest()\n",
    "\n",
    "def investigate():\n",
    "    print(\"You turn around and see a friendly squirrel!\")\n",
    "    print(\"The squirrel leads you to a hidden treasure chest.\")\n",
    "    print(\"You found the treasure! You win!\")\n",
    "    print(\"Thanks for playing!\")\n",
    "\n",
    "start_game()\n"
   ]
  },
  {
   "cell_type": "code",
   "execution_count": null,
   "id": "7970f262",
   "metadata": {},
   "outputs": [],
   "source": []
  },
  {
   "cell_type": "code",
   "execution_count": null,
   "id": "c6187bb5",
   "metadata": {},
   "outputs": [],
   "source": []
  },
  {
   "cell_type": "code",
   "execution_count": null,
   "id": "940bac6c",
   "metadata": {},
   "outputs": [],
   "source": []
  },
  {
   "cell_type": "code",
   "execution_count": null,
   "id": "e9d8cab9",
   "metadata": {},
   "outputs": [],
   "source": []
  },
  {
   "cell_type": "code",
   "execution_count": null,
   "id": "f34934ee",
   "metadata": {},
   "outputs": [],
   "source": []
  },
  {
   "cell_type": "code",
   "execution_count": null,
   "id": "0b863ee0",
   "metadata": {},
   "outputs": [],
   "source": []
  }
 ],
 "metadata": {
  "kernelspec": {
   "display_name": "Python 3 (ipykernel)",
   "language": "python",
   "name": "python3"
  },
  "language_info": {
   "codemirror_mode": {
    "name": "ipython",
    "version": 3
   },
   "file_extension": ".py",
   "mimetype": "text/x-python",
   "name": "python",
   "nbconvert_exporter": "python",
   "pygments_lexer": "ipython3",
   "version": "3.9.7"
  }
 },
 "nbformat": 4,
 "nbformat_minor": 5
}
