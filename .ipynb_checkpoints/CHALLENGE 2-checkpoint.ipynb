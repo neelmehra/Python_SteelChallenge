{
 "cells": [
  {
   "cell_type": "markdown",
   "id": "cf4a929b",
   "metadata": {},
   "source": [
    "This Python Challenge has provided by Steel Data\n",
    "\n",
    "Challenge Link : https://www.steeldata.org.uk/python2.html"
   ]
  },
  {
   "cell_type": "markdown",
   "id": "6a92bc6e",
   "metadata": {},
   "source": [
    "# Beginner"
   ]
  },
  {
   "cell_type": "markdown",
   "id": "dfc9fd2b",
   "metadata": {},
   "source": [
    "1. Write a function that takes a string as input and returns the length of the string."
   ]
  },
  {
   "cell_type": "code",
   "execution_count": 1,
   "id": "2b953480",
   "metadata": {},
   "outputs": [],
   "source": [
    "def get_length(input_string):\n",
    "    return len(input_string)"
   ]
  },
  {
   "cell_type": "code",
   "execution_count": 2,
   "id": "f8d21fb7",
   "metadata": {},
   "outputs": [
    {
     "name": "stdout",
     "output_type": "stream",
     "text": [
      "12\n"
     ]
    }
   ],
   "source": [
    "String= get_length(\"Hello World!\")\n",
    "print(String)"
   ]
  },
  {
   "cell_type": "markdown",
   "id": "c85063b7",
   "metadata": {},
   "source": [
    "2. Write a function that takes a list of integers as input and returns the maximum value in the list.\n"
   ]
  },
  {
   "cell_type": "code",
   "execution_count": 3,
   "id": "b560c79f",
   "metadata": {},
   "outputs": [],
   "source": [
    "def get_maxvalue(num):\n",
    "    return max(num)"
   ]
  },
  {
   "cell_type": "code",
   "execution_count": 4,
   "id": "5810adbc",
   "metadata": {},
   "outputs": [
    {
     "name": "stdout",
     "output_type": "stream",
     "text": [
      "9\n"
     ]
    }
   ],
   "source": [
    "max_val= get_maxvalue([4,5,3,6,9])\n",
    "print(max_val)"
   ]
  },
  {
   "cell_type": "markdown",
   "id": "f030433b",
   "metadata": {},
   "source": [
    "3. Write a function that takes a float as input and rounds it to the nearest integer."
   ]
  },
  {
   "cell_type": "code",
   "execution_count": 5,
   "id": "0e9fc87a",
   "metadata": {},
   "outputs": [],
   "source": [
    "def round_val(number):\n",
    "    return round(number)"
   ]
  },
  {
   "cell_type": "code",
   "execution_count": 6,
   "id": "c32702e3",
   "metadata": {},
   "outputs": [
    {
     "name": "stdout",
     "output_type": "stream",
     "text": [
      "3\n"
     ]
    }
   ],
   "source": [
    "value = round_val(3.4)\n",
    "print(value)"
   ]
  },
  {
   "cell_type": "markdown",
   "id": "c1c5602f",
   "metadata": {},
   "source": [
    "# Intermediate"
   ]
  },
  {
   "cell_type": "markdown",
   "id": "a79f8595",
   "metadata": {},
   "source": [
    "1. Write a function that takes a list of integers and returns a new list with only the unique values (no duplicates)."
   ]
  },
  {
   "cell_type": "code",
   "execution_count": 8,
   "id": "be49251a",
   "metadata": {},
   "outputs": [],
   "source": [
    "def get_unique(num):\n",
    "    unique_values = list(set(num))\n",
    "    return unique_values"
   ]
  },
  {
   "cell_type": "code",
   "execution_count": 9,
   "id": "7754dc9d",
   "metadata": {},
   "outputs": [
    {
     "name": "stdout",
     "output_type": "stream",
     "text": [
      "[1, 2, 3, 4, 5]\n"
     ]
    }
   ],
   "source": [
    "Value= get_unique([1, 2, 2, 3, 3, 4, 5, 5])\n",
    "print(Value)"
   ]
  },
  {
   "cell_type": "markdown",
   "id": "ad6659e0",
   "metadata": {},
   "source": [
    "2. Write a function that takes a string as input and returns the number of vowels in the string."
   ]
  },
  {
   "cell_type": "code",
   "execution_count": 10,
   "id": "1edf3136",
   "metadata": {},
   "outputs": [],
   "source": [
    "def count_vowels(input_string):\n",
    "    vowels = 'aeiouAEIOU'\n",
    "    vowel_count = len([char for char in input_string if char in vowels])\n",
    "    return vowel_count"
   ]
  },
  {
   "cell_type": "code",
   "execution_count": 11,
   "id": "c8ed110b",
   "metadata": {},
   "outputs": [
    {
     "name": "stdout",
     "output_type": "stream",
     "text": [
      "3\n"
     ]
    }
   ],
   "source": [
    "string = \"Hello, world!\"\n",
    "vowel_count = count_vowels(string)\n",
    "print(vowel_count)\n"
   ]
  },
  {
   "cell_type": "code",
   "execution_count": 12,
   "id": "7009df3d",
   "metadata": {},
   "outputs": [],
   "source": [
    "def count_vowels(input_string):\n",
    "    vowels = 'aeiouAEIOU'\n",
    "    vowel_count = 0\n",
    "    for char in input_string:\n",
    "        if char in vowels:\n",
    "            vowel_count += 1\n",
    "    return vowel_count"
   ]
  },
  {
   "cell_type": "code",
   "execution_count": 13,
   "id": "62f18963",
   "metadata": {},
   "outputs": [
    {
     "name": "stdout",
     "output_type": "stream",
     "text": [
      "3\n"
     ]
    }
   ],
   "source": [
    "string = \"Hello, world!\"\n",
    "vowel_count = count_vowels(string)\n",
    "print(vowel_count)"
   ]
  },
  {
   "cell_type": "markdown",
   "id": "02e398c3",
   "metadata": {},
   "source": [
    "3. Write a function that takes a list of integers and returns a new list with the elements in reverse order."
   ]
  },
  {
   "cell_type": "code",
   "execution_count": 14,
   "id": "5b0665b7",
   "metadata": {},
   "outputs": [],
   "source": [
    "def rev_list(num):\n",
    "    reversed_list= num[::-1]\n",
    "    return reversed_list"
   ]
  },
  {
   "cell_type": "code",
   "execution_count": 15,
   "id": "7d1e7deb",
   "metadata": {},
   "outputs": [
    {
     "name": "stdout",
     "output_type": "stream",
     "text": [
      "[5, 4, 3, 2, 1]\n"
     ]
    }
   ],
   "source": [
    "Number= rev_list([1, 2, 3, 4, 5])\n",
    "print(Number)"
   ]
  },
  {
   "cell_type": "markdown",
   "id": "60b8012e",
   "metadata": {},
   "source": [
    "# Advanced"
   ]
  },
  {
   "cell_type": "markdown",
   "id": "a6766e6f",
   "metadata": {},
   "source": [
    "1. Write a function that takes a list of strings and returns a new list with only the strings that are palindromes (i.e. they read the same forwards and backwards)."
   ]
  },
  {
   "cell_type": "code",
   "execution_count": 16,
   "id": "5c957165",
   "metadata": {},
   "outputs": [],
   "source": [
    "def get_palindromes(strings):\n",
    "    palindromes = [string for string in strings if string == string[::-1]]\n",
    "    return palindromes\n"
   ]
  },
  {
   "cell_type": "code",
   "execution_count": 17,
   "id": "64d89231",
   "metadata": {},
   "outputs": [
    {
     "name": "stdout",
     "output_type": "stream",
     "text": [
      "['level', 'radar', 'madam']\n"
     ]
    }
   ],
   "source": [
    "strings = [\"level\", \"hello\", \"radar\", \"world\", \"madam\"]\n",
    "palindromes = get_palindromes(strings)\n",
    "print(palindromes)"
   ]
  },
  {
   "cell_type": "code",
   "execution_count": null,
   "id": "bb37b0bf",
   "metadata": {},
   "outputs": [],
   "source": []
  }
 ],
 "metadata": {
  "kernelspec": {
   "display_name": "Python 3 (ipykernel)",
   "language": "python",
   "name": "python3"
  },
  "language_info": {
   "codemirror_mode": {
    "name": "ipython",
    "version": 3
   },
   "file_extension": ".py",
   "mimetype": "text/x-python",
   "name": "python",
   "nbconvert_exporter": "python",
   "pygments_lexer": "ipython3",
   "version": "3.9.7"
  }
 },
 "nbformat": 4,
 "nbformat_minor": 5
}
